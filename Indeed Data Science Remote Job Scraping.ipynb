{
 "cells": [
  {
   "cell_type": "markdown",
   "id": "ed09f9cc",
   "metadata": {},
   "source": [
    "## Data Scraping"
   ]
  },
  {
   "cell_type": "code",
   "execution_count": 2,
   "id": "22a94651",
   "metadata": {},
   "outputs": [],
   "source": [
    "from bs4 import BeautifulSoup\n",
    "import pandas as pd\n",
    "import requests\n",
    "import matplotlib.pyplot as plt\n",
    "import seaborn as sns"
   ]
  },
  {
   "cell_type": "code",
   "execution_count": 3,
   "id": "4beaba7b",
   "metadata": {},
   "outputs": [],
   "source": [
    "# requests library docs: https://docs.python-requests.org/en/latest/\n",
    "# bs4 docs: https://www.crummy.com/software/BeautifulSoup/bs4/doc/"
   ]
  },
  {
   "cell_type": "code",
   "execution_count": 4,
   "id": "37649b99-8ffc-468b-8bcf-712c264208e7",
   "metadata": {},
   "outputs": [],
   "source": [
    "#Website to scrape:\n",
    "link = ['https://www.indeed.com/jobs?q=data+scientist&l=remote']\n",
    "\n",
    "#loop to generate urls for pages 2 -15\n",
    "for page in range(1,15):\n",
    "    url = link[0]+('&start=')+str(page*10) \n",
    "    link.append(url)"
   ]
  },
  {
   "cell_type": "code",
   "execution_count": 5,
   "id": "6852e221-5f24-4e6f-923a-4a46ff0a11d5",
   "metadata": {},
   "outputs": [
    {
     "data": {
      "text/plain": [
       "['https://www.indeed.com/jobs?q=data+scientist&l=remote',\n",
       " 'https://www.indeed.com/jobs?q=data+scientist&l=remote&start=10',\n",
       " 'https://www.indeed.com/jobs?q=data+scientist&l=remote&start=20',\n",
       " 'https://www.indeed.com/jobs?q=data+scientist&l=remote&start=30',\n",
       " 'https://www.indeed.com/jobs?q=data+scientist&l=remote&start=40',\n",
       " 'https://www.indeed.com/jobs?q=data+scientist&l=remote&start=50',\n",
       " 'https://www.indeed.com/jobs?q=data+scientist&l=remote&start=60',\n",
       " 'https://www.indeed.com/jobs?q=data+scientist&l=remote&start=70',\n",
       " 'https://www.indeed.com/jobs?q=data+scientist&l=remote&start=80',\n",
       " 'https://www.indeed.com/jobs?q=data+scientist&l=remote&start=90',\n",
       " 'https://www.indeed.com/jobs?q=data+scientist&l=remote&start=100',\n",
       " 'https://www.indeed.com/jobs?q=data+scientist&l=remote&start=110',\n",
       " 'https://www.indeed.com/jobs?q=data+scientist&l=remote&start=120',\n",
       " 'https://www.indeed.com/jobs?q=data+scientist&l=remote&start=130',\n",
       " 'https://www.indeed.com/jobs?q=data+scientist&l=remote&start=140']"
      ]
     },
     "execution_count": 5,
     "metadata": {},
     "output_type": "execute_result"
    }
   ],
   "source": [
    "link"
   ]
  },
  {
   "cell_type": "code",
   "execution_count": 6,
   "id": "ffc2a403",
   "metadata": {},
   "outputs": [
    {
     "name": "stdout",
     "output_type": "stream",
     "text": [
      "200\n",
      "200\n",
      "200\n",
      "200\n",
      "200\n",
      "200\n",
      "200\n",
      "200\n",
      "200\n",
      "200\n",
      "200\n",
      "200\n",
      "200\n",
      "200\n",
      "200\n"
     ]
    }
   ],
   "source": [
    "#list of requests objects for each link\n",
    "req = []\n",
    "for i in link:\n",
    "    r = requests.get(i)\n",
    "    req.append(r)\n",
    "    print(r.status_code)"
   ]
  },
  {
   "cell_type": "code",
   "execution_count": 7,
   "id": "ebbc4ac2-5c02-4058-801b-53a55410f81f",
   "metadata": {},
   "outputs": [],
   "source": [
    "#list of html text for each requests object\n",
    "htmltext = []\n",
    "for obj in req:\n",
    "    txt = obj.text\n",
    "    htmltext.append(txt)"
   ]
  },
  {
   "cell_type": "code",
   "execution_count": 8,
   "id": "03d05ba0-a9c0-4bcf-827d-c699f5b78feb",
   "metadata": {},
   "outputs": [],
   "source": [
    "#create one large html text file\n",
    "html_full = ''.join(htmltext)"
   ]
  },
  {
   "cell_type": "code",
   "execution_count": 9,
   "id": "b32208d5",
   "metadata": {},
   "outputs": [],
   "source": [
    "soup = BeautifulSoup(html_full, 'html.parser')"
   ]
  },
  {
   "cell_type": "code",
   "execution_count": 10,
   "id": "0a050612-b956-4a54-9872-f36a18c8b745",
   "metadata": {},
   "outputs": [],
   "source": [
    "#find all td tags with class resultContent. this contains several job data points we want to scrape\n",
    "jobcard = soup.find_all('td', attrs={'class':'resultContent'})\n",
    "\n",
    "#find all span tags with class date. this contains days ago that job was posted\n",
    "timecard = soup.find_all('span', attrs={'class':'date'})"
   ]
  },
  {
   "cell_type": "code",
   "execution_count": 11,
   "id": "8dd2a6d3",
   "metadata": {},
   "outputs": [
    {
     "data": {
      "text/plain": [
       "225"
      ]
     },
     "execution_count": 11,
     "metadata": {},
     "output_type": "execute_result"
    }
   ],
   "source": [
    "len(jobcard)\n",
    "#15 matches the number of jobs listed on page 1.\n",
    "#15 pages at 15 listings per page = 225"
   ]
  },
  {
   "cell_type": "code",
   "execution_count": 13,
   "id": "0784fcb8-f360-45dc-8bea-f9864b72fe9e",
   "metadata": {},
   "outputs": [],
   "source": [
    "#creates blank df with columns\n",
    "df = pd.DataFrame(columns=['Title','Location','Company','Company_Rating','Salary Range'])\n",
    "\n",
    "#this will loop through all 225 jobs listed and scrape out job, company, location, rating, salary\n",
    "for i in range(0,len(jobcard)):\n",
    "    job = jobcard[i].find('span', attrs={'title':True}).get_text()\n",
    "    \n",
    "    if jobcard[i].find('a', attrs={'data-tn-element':\"companyName\"}) == None:\n",
    "        if jobcard[i].find('span', attrs={'class':\"companyName\"}) == None: \n",
    "            company = 'None Provided'\n",
    "        else:\n",
    "            jobcard[i].find('span', attrs={'class':\"companyName\"})\n",
    "    else:    \n",
    "        company = jobcard[i].find('a', attrs={'data-tn-element':\"companyName\"}).get_text()\n",
    "    \n",
    "    if jobcard[i].find('span', attrs={'aria-hidden':\"true\"}) ==None:\n",
    "        rating = 'None Provided'\n",
    "    else:    \n",
    "        rating = jobcard[i].find('span', attrs={'aria-hidden':\"true\"}).get_text()\n",
    "    \n",
    "    if jobcard[i].find('span', attrs={'class':False,'title':False, 'aria-hidden':False}) ==None:\n",
    "        location = 'None Provided'\n",
    "    else:\n",
    "        location = jobcard[i].find('span', attrs={'class':False,'title':False, 'aria-hidden':False}).get_text()\n",
    "    \n",
    "    if jobcard[i].find('div', attrs={'class':\"attribute_snippet\"}) == None:\n",
    "        salary_range = 'None Provided'\n",
    "    else:\n",
    "        salary_range = jobcard[i].find('div', attrs={'class':\"attribute_snippet\"}).get_text()\n",
    "\n",
    "#add scraped info to a df   \n",
    "    df=df.append({'Title':job, 'Location':location, 'Company':company, 'Company_Rating':rating, 'Salary Range':salary_range}, ignore_index=True)"
   ]
  },
  {
   "cell_type": "code",
   "execution_count": 14,
   "id": "e89abb91-e31c-4c5f-a4e1-17ee6011a781",
   "metadata": {},
   "outputs": [
    {
     "data": {
      "text/html": [
       "<div>\n",
       "<style scoped>\n",
       "    .dataframe tbody tr th:only-of-type {\n",
       "        vertical-align: middle;\n",
       "    }\n",
       "\n",
       "    .dataframe tbody tr th {\n",
       "        vertical-align: top;\n",
       "    }\n",
       "\n",
       "    .dataframe thead th {\n",
       "        text-align: right;\n",
       "    }\n",
       "</style>\n",
       "<table border=\"1\" class=\"dataframe\">\n",
       "  <thead>\n",
       "    <tr style=\"text-align: right;\">\n",
       "      <th></th>\n",
       "      <th>Title</th>\n",
       "      <th>Location</th>\n",
       "      <th>Company</th>\n",
       "      <th>Company_Rating</th>\n",
       "      <th>Salary Range</th>\n",
       "    </tr>\n",
       "  </thead>\n",
       "  <tbody>\n",
       "    <tr>\n",
       "      <th>21</th>\n",
       "      <td>Data Scientist, Freemium Innovation</td>\n",
       "      <td>None Provided</td>\n",
       "      <td>Spotify</td>\n",
       "      <td>4.3</td>\n",
       "      <td>None Provided</td>\n",
       "    </tr>\n",
       "  </tbody>\n",
       "</table>\n",
       "</div>"
      ],
      "text/plain": [
       "                                  Title       Location  Company  \\\n",
       "21  Data Scientist, Freemium Innovation  None Provided  Spotify   \n",
       "\n",
       "   Company_Rating   Salary Range  \n",
       "21            4.3  None Provided  "
      ]
     },
     "execution_count": 14,
     "metadata": {},
     "output_type": "execute_result"
    }
   ],
   "source": [
    "#test to see if Spotify appears in search results\n",
    "df[df['Company'].str.contains('Spotify')]"
   ]
  },
  {
   "cell_type": "code",
   "execution_count": 15,
   "id": "6fcc88eb-6e42-4749-a959-5fdbb8bc1566",
   "metadata": {},
   "outputs": [
    {
     "data": {
      "text/html": [
       "<div>\n",
       "<style scoped>\n",
       "    .dataframe tbody tr th:only-of-type {\n",
       "        vertical-align: middle;\n",
       "    }\n",
       "\n",
       "    .dataframe tbody tr th {\n",
       "        vertical-align: top;\n",
       "    }\n",
       "\n",
       "    .dataframe thead th {\n",
       "        text-align: right;\n",
       "    }\n",
       "</style>\n",
       "<table border=\"1\" class=\"dataframe\">\n",
       "  <thead>\n",
       "    <tr style=\"text-align: right;\">\n",
       "      <th></th>\n",
       "      <th>Title</th>\n",
       "      <th>Location</th>\n",
       "      <th>Company</th>\n",
       "      <th>Company_Rating</th>\n",
       "      <th>Salary Range</th>\n",
       "    </tr>\n",
       "  </thead>\n",
       "  <tbody>\n",
       "    <tr>\n",
       "      <th>0</th>\n",
       "      <td>Data Scientist</td>\n",
       "      <td>Remote</td>\n",
       "      <td>World Services LLC</td>\n",
       "      <td>4.5</td>\n",
       "      <td>$80 - $90 an hour</td>\n",
       "    </tr>\n",
       "    <tr>\n",
       "      <th>1</th>\n",
       "      <td>Senior Data Scientist (remote)</td>\n",
       "      <td>Remote</td>\n",
       "      <td>Liberty Mutual Insurance</td>\n",
       "      <td>3.6</td>\n",
       "      <td>$129,500 - $184,100 a year</td>\n",
       "    </tr>\n",
       "    <tr>\n",
       "      <th>2</th>\n",
       "      <td>Data Scientist</td>\n",
       "      <td>Remote</td>\n",
       "      <td>Selby Jennings</td>\n",
       "      <td>4.2</td>\n",
       "      <td>None Provided</td>\n",
       "    </tr>\n",
       "    <tr>\n",
       "      <th>3</th>\n",
       "      <td>NLP Data Scientist</td>\n",
       "      <td>None Provided</td>\n",
       "      <td>Engtal</td>\n",
       "      <td>5.0</td>\n",
       "      <td>$130,000 - $180,000 a year</td>\n",
       "    </tr>\n",
       "    <tr>\n",
       "      <th>4</th>\n",
       "      <td>Junior Data Scientist - 100% Remote</td>\n",
       "      <td>Remote</td>\n",
       "      <td>Piper Companies</td>\n",
       "      <td>4.5</td>\n",
       "      <td>$50 - $60 an hour</td>\n",
       "    </tr>\n",
       "    <tr>\n",
       "      <th>...</th>\n",
       "      <td>...</td>\n",
       "      <td>...</td>\n",
       "      <td>...</td>\n",
       "      <td>...</td>\n",
       "      <td>...</td>\n",
       "    </tr>\n",
       "    <tr>\n",
       "      <th>220</th>\n",
       "      <td>Applied Data Scientist (remote)</td>\n",
       "      <td>Remote</td>\n",
       "      <td>Strategic Employment Partners</td>\n",
       "      <td>None Provided</td>\n",
       "      <td>None Provided</td>\n",
       "    </tr>\n",
       "    <tr>\n",
       "      <th>221</th>\n",
       "      <td>Data Scientist (Remote)</td>\n",
       "      <td>Remote</td>\n",
       "      <td>XSELL Technologies</td>\n",
       "      <td>3.5</td>\n",
       "      <td>Full-time</td>\n",
       "    </tr>\n",
       "    <tr>\n",
       "      <th>222</th>\n",
       "      <td>Sr. Data Analyst</td>\n",
       "      <td>Remote</td>\n",
       "      <td>XSELL Technologies</td>\n",
       "      <td>None Provided</td>\n",
       "      <td>$60 - $65 an hour</td>\n",
       "    </tr>\n",
       "    <tr>\n",
       "      <th>223</th>\n",
       "      <td>Data Scientist</td>\n",
       "      <td>Remote</td>\n",
       "      <td>XSELL Technologies</td>\n",
       "      <td>None Provided</td>\n",
       "      <td>Full-time</td>\n",
       "    </tr>\n",
       "    <tr>\n",
       "      <th>224</th>\n",
       "      <td>Senior Data Scientist</td>\n",
       "      <td>Remote</td>\n",
       "      <td>XSELL Technologies</td>\n",
       "      <td>None Provided</td>\n",
       "      <td>Full-time</td>\n",
       "    </tr>\n",
       "  </tbody>\n",
       "</table>\n",
       "<p>225 rows × 5 columns</p>\n",
       "</div>"
      ],
      "text/plain": [
       "                                   Title       Location  \\\n",
       "0                         Data Scientist         Remote   \n",
       "1         Senior Data Scientist (remote)         Remote   \n",
       "2                         Data Scientist         Remote   \n",
       "3                     NLP Data Scientist  None Provided   \n",
       "4    Junior Data Scientist - 100% Remote         Remote   \n",
       "..                                   ...            ...   \n",
       "220      Applied Data Scientist (remote)         Remote   \n",
       "221              Data Scientist (Remote)         Remote   \n",
       "222                     Sr. Data Analyst         Remote   \n",
       "223                       Data Scientist         Remote   \n",
       "224                Senior Data Scientist         Remote   \n",
       "\n",
       "                           Company Company_Rating                Salary Range  \n",
       "0               World Services LLC            4.5           $80 - $90 an hour  \n",
       "1         Liberty Mutual Insurance            3.6  $129,500 - $184,100 a year  \n",
       "2                   Selby Jennings            4.2               None Provided  \n",
       "3                           Engtal            5.0  $130,000 - $180,000 a year  \n",
       "4                  Piper Companies            4.5           $50 - $60 an hour  \n",
       "..                             ...            ...                         ...  \n",
       "220  Strategic Employment Partners  None Provided               None Provided  \n",
       "221             XSELL Technologies            3.5                   Full-time  \n",
       "222             XSELL Technologies  None Provided           $60 - $65 an hour  \n",
       "223             XSELL Technologies  None Provided                   Full-time  \n",
       "224             XSELL Technologies  None Provided                   Full-time  \n",
       "\n",
       "[225 rows x 5 columns]"
      ]
     },
     "execution_count": 15,
     "metadata": {},
     "output_type": "execute_result"
    }
   ],
   "source": [
    "df"
   ]
  },
  {
   "cell_type": "code",
   "execution_count": 16,
   "id": "a356ba8c-476d-4e96-9fdd-3b229b4618ee",
   "metadata": {},
   "outputs": [],
   "source": [
    "#export data to csv file\n",
    "df.to_csv('job_scrape.csv', encoding = 'utf-8')"
   ]
  }
 ],
 "metadata": {
  "kernelspec": {
   "display_name": "Python 3 (ipykernel)",
   "language": "python",
   "name": "python3"
  },
  "language_info": {
   "codemirror_mode": {
    "name": "ipython",
    "version": 3
   },
   "file_extension": ".py",
   "mimetype": "text/x-python",
   "name": "python",
   "nbconvert_exporter": "python",
   "pygments_lexer": "ipython3",
   "version": "3.9.7"
  }
 },
 "nbformat": 4,
 "nbformat_minor": 5
}
